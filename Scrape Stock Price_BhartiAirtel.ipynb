{
 "cells": [
  {
   "cell_type": "markdown",
   "metadata": {},
   "source": [
    "\n",
    "\n",
    "## Scraping Stock Price from finance.yahoo\n",
    "\n",
    "\n",
    "### Here we scrape Bharti Airtel stock Price if you want to scrape another stock price you just have to change the url\n",
    "\n",
    "### Bharti Airtel URL:\n",
    "#### https://in.finance.yahoo.com/quote/BHARTIARTL.NS?p=BHARTIARTL.NS&.tsrc=fin-srch\n",
    "\n",
    "### Replace BHARTIARTL with SBIN for scraping State Bank of India stock price.\n",
    "\n",
    "#### https://in.finance.yahoo.com/quote/SBIN.NS?p=SBIN.NS&.tsrc=fin-srch\n",
    "\n"
   ]
  },
  {
   "cell_type": "markdown",
   "metadata": {},
   "source": [
    "<font color=red>\n",
    "    \n",
    "#### Importing libraries for scraping </font>\n",
    "- BeautifulSoup\n",
    "- Request\n",
    "\n",
    "<font color=red>\n",
    "    \n",
    "#### Importing libraries for getting present Date and time </font>\n",
    "- datetime\n",
    "\n",
    "<font color=red> \n",
    "    \n",
    "#### Importing libraries for working with and writing dataframe to csv file </font>\n",
    "- pandas\n",
    "\n"
   ]
  },
  {
   "cell_type": "code",
   "execution_count": 1,
   "metadata": {},
   "outputs": [],
   "source": [
    "import requests\n",
    "from bs4 import BeautifulSoup\n",
    "from datetime import datetime\n",
    "import time\n",
    "import pandas as pd"
   ]
  },
  {
   "cell_type": "markdown",
   "metadata": {},
   "source": [
    "### Creating function to parse the request and scrape the stock price."
   ]
  },
  {
   "cell_type": "code",
   "execution_count": 3,
   "metadata": {},
   "outputs": [],
   "source": [
    "def parsePriceBharti():    \n",
    "    url = \"https://in.finance.yahoo.com/quote/BHARTIARTL.NS?p=BHARTIARTL.NS&.tsrc=fin-srch\"\n",
    "    r = requests.get(url)\n",
    "    htmlContent = r.content\n",
    "    soup = BeautifulSoup(htmlContent, \"html.parser\")\n",
    "    price = soup.find('div',class_=\"D(ib) Mend(20px)\").find('span').text\n",
    "    return price"
   ]
  },
  {
   "cell_type": "markdown",
   "metadata": {},
   "source": [
    "### Creating blank dataframe."
   ]
  },
  {
   "cell_type": "code",
   "execution_count": 4,
   "metadata": {},
   "outputs": [],
   "source": [
    "new_df = pd.DataFrame(columns = ['Date', 'Time', 'Price'])"
   ]
  },
  {
   "cell_type": "markdown",
   "metadata": {},
   "source": [
    "### Creating while loop to continously scraping data till market closes."
   ]
  },
  {
   "cell_type": "code",
   "execution_count": 7,
   "metadata": {},
   "outputs": [
    {
     "name": "stdout",
     "output_type": "stream",
     "text": [
      "Market Close\n"
     ]
    }
   ],
   "source": [
    "while True:\n",
    "    now = datetime.now()\n",
    "    df2 = pd.DataFrame([[now.strftime(\"%d/%m/%Y\"),now.strftime(\"%H:%M:%S\"),parsePriceBharti()]],columns=['Date', 'Time','Price'])\n",
    "    new_df = new_df.append(df2,ignore_index=True)\n",
    "    if now.hour > 3 and now.minute > 15:\n",
    "        print(\"Market Close\")\n",
    "        break\n",
    "    time.sleep(5)"
   ]
  },
  {
   "cell_type": "markdown",
   "metadata": {},
   "source": [
    "### Converting dataframe to csv file. "
   ]
  },
  {
   "cell_type": "code",
   "execution_count": null,
   "metadata": {},
   "outputs": [],
   "source": [
    "new_df.to_csv('BhartiAirtelStockDataset.csv') "
   ]
  },
  {
   "cell_type": "markdown",
   "metadata": {},
   "source": [
    "\n",
    "\n",
    "### Thanks !"
   ]
  },
  {
   "cell_type": "code",
   "execution_count": null,
   "metadata": {},
   "outputs": [],
   "source": []
  }
 ],
 "metadata": {
  "kernelspec": {
   "display_name": "Python 3",
   "language": "python",
   "name": "python3"
  },
  "language_info": {
   "codemirror_mode": {
    "name": "ipython",
    "version": 3
   },
   "file_extension": ".py",
   "mimetype": "text/x-python",
   "name": "python",
   "nbconvert_exporter": "python",
   "pygments_lexer": "ipython3",
   "version": "3.7.4"
  }
 },
 "nbformat": 4,
 "nbformat_minor": 2
}
